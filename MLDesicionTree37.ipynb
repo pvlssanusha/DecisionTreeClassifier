{
  "nbformat": 4,
  "nbformat_minor": 0,
  "metadata": {
    "colab": {
      "provenance": []
    },
    "kernelspec": {
      "name": "python3",
      "display_name": "Python 3"
    },
    "language_info": {
      "name": "python"
    }
  },
  "cells": [
    {
      "cell_type": "code",
      "execution_count": 6,
      "metadata": {
        "id": "uY5B-iIYzZyA"
      },
      "outputs": [],
      "source": [
        "import numpy as np\n",
        "import pandas as pd\n",
        "import math\n",
        "from graphviz import Digraph"
      ]
    },
    {
      "cell_type": "markdown",
      "source": [
        "Mounting the drive to access files in MyDrive"
      ],
      "metadata": {
        "id": "vtVCj2g209xT"
      }
    },
    {
      "cell_type": "code",
      "source": [
        "from google.colab import drive\n",
        "drive.mount('/content/drive')"
      ],
      "metadata": {
        "colab": {
          "base_uri": "https://localhost:8080/"
        },
        "id": "w7jyTGsKzhWw",
        "outputId": "424c1525-2d0d-4b32-a70c-17cc7e0b8d54"
      },
      "execution_count": 7,
      "outputs": [
        {
          "output_type": "stream",
          "name": "stdout",
          "text": [
            "Mounted at /content/drive\n"
          ]
        }
      ]
    },
    {
      "cell_type": "markdown",
      "source": [
        "Loading the dataset from the drive using pandas"
      ],
      "metadata": {
        "id": "68KbAt461EZd"
      }
    },
    {
      "cell_type": "code",
      "source": [
        "dataset=pd.read_csv('/content/drive/MyDrive/tennis.csv')\n",
        "print(dataset)\n",
        "#testingdataset=pd.read_csv('/content/drive/MyDrive/Testingdata.csv')"
      ],
      "metadata": {
        "colab": {
          "base_uri": "https://localhost:8080/"
        },
        "id": "oOTjlkpezpD7",
        "outputId": "934140b7-ae01-4eb1-db0a-ea30521d539b"
      },
      "execution_count": 8,
      "outputs": [
        {
          "output_type": "stream",
          "name": "stdout",
          "text": [
            "     outlook  temp humidity    wind play\n",
            "0      Sunny   Hot     High    Weak   No\n",
            "1      Sunny   Hot     High  Strong   No\n",
            "2   Overcast   Hot     High    Weak  Yes\n",
            "3       Rain  Mild     High    Weak  Yes\n",
            "4       Rain  Cool   Normal    Weak  Yes\n",
            "5       Rain  Cool   Normal  Strong   No\n",
            "6   Overcast  Cool   Normal  Strong  Yes\n",
            "7      Sunny  Mild     High    Weak   No\n",
            "8      Sunny  Cool   Normal    Weak  Yes\n",
            "9       Rain  Mild   Normal    Weak  Yes\n",
            "10     Sunny  Mild   Normal  Strong  Yes\n",
            "11  Overcast  Mild     High  Strong  Yes\n",
            "12  Overcast   Hot   Normal    Weak  Yes\n",
            "13      Rain  Mild     High  Strong   No\n"
          ]
        }
      ]
    },
    {
      "cell_type": "code",
      "source": [
        "len(dataset)#gives the no of instances in dataset\n",
        "rows=len(dataset.axes[0])#Gives the output same as length (No of rows in DataFrame)\n",
        "coloumns=len(dataset.axes[1])#No of rows in DataFrame\n",
        "print(rows)\n",
        "print(coloumns)"
      ],
      "metadata": {
        "colab": {
          "base_uri": "https://localhost:8080/"
        },
        "id": "m-uanxsJz6Rx",
        "outputId": "485ceec1-393d-44aa-ee8b-c99ac4564c28"
      },
      "execution_count": 9,
      "outputs": [
        {
          "output_type": "stream",
          "name": "stdout",
          "text": [
            "14\n",
            "5\n"
          ]
        }
      ]
    },
    {
      "cell_type": "markdown",
      "source": [
        "'iloc' is used to select a portion of dataframe (that may be few rows or coloumns)\n",
        "\n",
        "SYNTAX: Dataframe.iloc[rowstartindex:endindex,colstartindex:endindex]\n",
        "\n",
        "Unique function is used to identify unique elements in dataframe"
      ],
      "metadata": {
        "id": "2-kYa5e73crD"
      }
    },
    {
      "cell_type": "code",
      "source": [
        "ClassAttributes=dataset.iloc[:,-1].unique() #Identifying the unique values in the class attribute(i.e last attribute)\n",
        "ClassAttributes"
      ],
      "metadata": {
        "colab": {
          "base_uri": "https://localhost:8080/"
        },
        "id": "uF4-NDRXz--I",
        "outputId": "0eca0af7-3d5c-4203-e6ba-661c03fb5377"
      },
      "execution_count": 10,
      "outputs": [
        {
          "output_type": "execute_result",
          "data": {
            "text/plain": [
              "array(['No', 'Yes'], dtype=object)"
            ]
          },
          "metadata": {},
          "execution_count": 10
        }
      ]
    },
    {
      "cell_type": "code",
      "source": [
        "def Entrophy(x):\n",
        "  ##Implementing with Numpy Arrays\n",
        "  unique_values,counts=np.unique(x.iloc[:,-1], return_counts=True)\n",
        "  #print(unique_values)\n",
        "  probability=counts/len(x)\n",
        "  return -np.sum(probability*np.log2(probability))"
      ],
      "metadata": {
        "id": "hnpIx3Ms0By9"
      },
      "execution_count": 11,
      "outputs": []
    },
    {
      "cell_type": "code",
      "source": [
        "Entrophy(dataset)"
      ],
      "metadata": {
        "colab": {
          "base_uri": "https://localhost:8080/"
        },
        "id": "_4zg1KDg90u_",
        "outputId": "38de670c-6a82-4b76-892e-e2c49197048a"
      },
      "execution_count": 12,
      "outputs": [
        {
          "output_type": "execute_result",
          "data": {
            "text/plain": [
              "0.9402859586706311"
            ]
          },
          "metadata": {},
          "execution_count": 12
        }
      ]
    },
    {
      "cell_type": "code",
      "source": [
        "def InformationGain(x,attribute):\n",
        "  #print(attribute)\n",
        "  uniquefeatures=attribute.unique()\n",
        "  #print(uniquefeatures)\n",
        "  #print(attribute.name)\n",
        "  TotalEntrophy=Entrophy(x)\n",
        "  infogain=0\n",
        "  for i in uniquefeatures:\n",
        "    subdataset=x[x[attribute.name]==i]\n",
        "    infogain=infogain+len(subdataset)/len(x)*Entrophy(subdataset)\n",
        "  INFORMATIONGAIN=TotalEntrophy-infogain\n",
        "  return INFORMATIONGAIN\n",
        "    "
      ],
      "metadata": {
        "id": "ddCeAb0x-A5p"
      },
      "execution_count": 13,
      "outputs": []
    },
    {
      "cell_type": "code",
      "source": [
        "InformationGain(dataset,dataset['play'])"
      ],
      "metadata": {
        "colab": {
          "base_uri": "https://localhost:8080/"
        },
        "id": "jguBRLxRJ0zv",
        "outputId": "86b01c64-a71e-4ad3-d525-bc835b57bed4"
      },
      "execution_count": 14,
      "outputs": [
        {
          "output_type": "execute_result",
          "data": {
            "text/plain": [
              "0.9402859586706311"
            ]
          },
          "metadata": {},
          "execution_count": 14
        }
      ]
    },
    {
      "cell_type": "code",
      "source": [
        "class Node:\n",
        "  def __init__(self,name):\n",
        "    self.name=name\n",
        "    self.childrens=[]\n",
        "    self.labels=[]\n",
        "  def add_children(self,children):\n",
        "    #APPENDING  CHILDREN NODE OBJECTS(not name ) TO THE PARENT NODE\n",
        "    self.childrens.append(children)\n",
        "  def add_label(self,label):\n",
        "    #APPENDING   EDGE LABELS TO THE PARENT NODE\n",
        "    self.labels.append(label)\n",
        "  \n",
        "\n",
        "\n",
        "    "
      ],
      "metadata": {
        "id": "KLpVhEpnzkT5"
      },
      "execution_count": 15,
      "outputs": []
    },
    {
      "cell_type": "code",
      "source": [
        "class Tree:\n",
        "  def __init__(self,graph):\n",
        "    #Initiliasing the Digraph object to construct a single tree at last \n",
        "    self.graph=graph\n",
        "  def CreateNodes(self,nodeobj):\n",
        "    #this function is used to create a node in the graph using Digraph module\n",
        "    self.graph.node(nodeobj.name)\n",
        "    #Recursively calling the same function to create nodes for the subtree also\n",
        "    for i in nodeobj.childrens:\n",
        "      self.CreateNodes(i)\n",
        "  def CreateEdge(self,nodeobj):\n",
        "    for i in range(len(nodeobj.childrens)):\n",
        "       #this function is used to create a edge in the graph using edge function from  Digragh module\n",
        "      self.graph.edge(nodeobj.name,nodeobj.childrens[i].name,label=nodeobj.labels[i])\n",
        "       #Recursively calling the same function to create edgess for the subtree also\n",
        "      self.CreateEdge(nodeobj.childrens[i])\n",
        "    return self.graph\n",
        "  \n",
        "  \n",
        "    \n",
        "\n",
        "  "
      ],
      "metadata": {
        "id": "SNRafbxqdcx5"
      },
      "execution_count": 16,
      "outputs": []
    },
    {
      "cell_type": "code",
      "source": [
        "class DecisionTree:\n",
        "  def __init__(self,dataset):\n",
        "    self.iteration=0\n",
        "    self.dataset=dataset\n",
        "    self.Node=None\n",
        "    self.p=0\n",
        "    self.count=0\n",
        "  def RootNode(self,dataset,Node1):\n",
        "    if dataset.empty:\n",
        "      return\n",
        "    #if there is only 1 coloumn in the dataset return\n",
        "    if(len(dataset.axes[1])==1):\n",
        "      return\n",
        "    #To get all the  coloumn names of the dataset \n",
        "    coloumnnames=list(dataset.columns)\n",
        "    #extracting the unique values of the last attribute i.e class attribute\n",
        "    classvar=dataset[coloumnnames[-1]].unique()\n",
        "    #if there is 1 only 1 class variable that is yes or no then we can stop and create a node with that variable\n",
        "    if len(classvar)==1:\n",
        "      print(\"Child Nodes=\",classvar[0])\n",
        "      #Creating a leaf node\n",
        "      Node2=Node(classvar[0]+'('+str(self.count)+')')\n",
        "      self.count=self.count+1\n",
        "      #Adding this node as a children to its previous node\n",
        "      Node1.add_children(Node2)\n",
        "      Node1=Node2\n",
        "      return\n",
        "    InfoGain=[]\n",
        "    #finding information gain of all attributes in the dataset\n",
        "    for i in dataset:\n",
        "      InfoGain.append(InformationGain(dataset,dataset[i]))\n",
        "    InfoGain.pop(-1)#Removing the class attribute info gain\n",
        "    array=np.array(InfoGain)\n",
        "    #print(array)\n",
        "    max=array.argmax()\n",
        "    #Finding the attribute which has maximum info gain\n",
        "    RootNode=coloumnnames[max]\n",
        "    if(self.p==0):\n",
        "      Node1.name=RootNode\n",
        "      self.Node=Node1\n",
        "      self.p=1\n",
        "    else:\n",
        "      #creating a new root node in the next level\n",
        "      Node2=Node(RootNode)\n",
        "      Node1.add_children(Node2)\n",
        "      Node1=Node2\n",
        "    print(\"RootNode=\",RootNode)\n",
        "    uniquevalues=self.dataset[RootNode].unique()\n",
        "    #print(uniquevalues)\n",
        "    #Calling recursively  the same function for the subdataset\n",
        "    for i in uniquevalues:\n",
        "      subdataset=dataset[dataset[RootNode]==i]\n",
        "      Node1.add_label(i)\n",
        "      #print(\"sub0=\",subdataset)\n",
        "      subdataset.drop(RootNode, axis=1, inplace=True)\n",
        "      #print(subdataset)\n",
        "      if(len(subdataset)==1):\n",
        "        return\n",
        "      #print(\"sub1=\",subdataset)\n",
        "      subdataset=pd.DataFrame(subdataset)\n",
        "      self.RootNode(subdataset,Node1)\n",
        "\n",
        "\n",
        "\n",
        "  \n"
      ],
      "metadata": {
        "id": "DwCoqjVHOE5a"
      },
      "execution_count": 17,
      "outputs": []
    },
    {
      "cell_type": "code",
      "source": [
        "x=DecisionTree(dataset)\n",
        "y=Digraph()\n",
        "n=Node(\"Root\")\n",
        "x.RootNode(dataset,n)\n",
        "final=Tree(y)\n",
        "final.CreateNodes(n)\n",
        "final.CreateEdge(n)\n"
      ],
      "metadata": {
        "colab": {
          "base_uri": "https://localhost:8080/",
          "height": 538
        },
        "id": "puFmnxnHwK4A",
        "outputId": "2587ebb1-395b-4925-8279-e863da16ede0"
      },
      "execution_count": 18,
      "outputs": [
        {
          "output_type": "stream",
          "name": "stdout",
          "text": [
            "RootNode= outlook\n",
            "RootNode= humidity\n",
            "Child Nodes= No\n",
            "Child Nodes= Yes\n",
            "Child Nodes= Yes\n",
            "RootNode= wind\n",
            "Child Nodes= Yes\n",
            "Child Nodes= No\n"
          ]
        },
        {
          "output_type": "stream",
          "name": "stderr",
          "text": [
            "/usr/local/lib/python3.8/dist-packages/pandas/core/frame.py:4906: SettingWithCopyWarning: \n",
            "A value is trying to be set on a copy of a slice from a DataFrame\n",
            "\n",
            "See the caveats in the documentation: https://pandas.pydata.org/pandas-docs/stable/user_guide/indexing.html#returning-a-view-versus-a-copy\n",
            "  return super().drop(\n"
          ]
        },
        {
          "output_type": "execute_result",
          "data": {
            "text/plain": [
              "<graphviz.dot.Digraph at 0x7f7e30882d60>"
            ],
            "image/svg+xml": "<?xml version=\"1.0\" encoding=\"UTF-8\" standalone=\"no\"?>\n<!DOCTYPE svg PUBLIC \"-//W3C//DTD SVG 1.1//EN\"\n \"http://www.w3.org/Graphics/SVG/1.1/DTD/svg11.dtd\">\n<!-- Generated by graphviz version 2.43.0 (0)\n -->\n<!-- Title: %3 Pages: 1 -->\n<svg width=\"329pt\" height=\"218pt\"\n viewBox=\"0.00 0.00 328.69 218.00\" xmlns=\"http://www.w3.org/2000/svg\" xmlns:xlink=\"http://www.w3.org/1999/xlink\">\n<g id=\"graph0\" class=\"graph\" transform=\"scale(1 1) rotate(0) translate(4 214)\">\n<title>%3</title>\n<polygon fill=\"white\" stroke=\"transparent\" points=\"-4,4 -4,-214 324.69,-214 324.69,4 -4,4\"/>\n<!-- outlook -->\n<g id=\"node1\" class=\"node\">\n<title>outlook</title>\n<ellipse fill=\"none\" stroke=\"black\" cx=\"167.85\" cy=\"-192\" rx=\"37.89\" ry=\"18\"/>\n<text text-anchor=\"middle\" x=\"167.85\" y=\"-188.3\" font-family=\"Times,serif\" font-size=\"14.00\">outlook</text>\n</g>\n<!-- humidity -->\n<g id=\"node2\" class=\"node\">\n<title>humidity</title>\n<ellipse fill=\"none\" stroke=\"black\" cx=\"72.85\" cy=\"-105\" rx=\"42.79\" ry=\"18\"/>\n<text text-anchor=\"middle\" x=\"72.85\" y=\"-101.3\" font-family=\"Times,serif\" font-size=\"14.00\">humidity</text>\n</g>\n<!-- outlook&#45;&gt;humidity -->\n<g id=\"edge1\" class=\"edge\">\n<title>outlook&#45;&gt;humidity</title>\n<path fill=\"none\" stroke=\"black\" d=\"M150.86,-175.8C136.19,-162.67 114.77,-143.51 98.09,-128.58\"/>\n<polygon fill=\"black\" stroke=\"black\" points=\"100.11,-125.7 90.33,-121.64 95.45,-130.92 100.11,-125.7\"/>\n<text text-anchor=\"middle\" x=\"144.35\" y=\"-144.8\" font-family=\"Times,serif\" font-size=\"14.00\">Sunny</text>\n</g>\n<!-- Yes(2) -->\n<g id=\"node5\" class=\"node\">\n<title>Yes(2)</title>\n<ellipse fill=\"none\" stroke=\"black\" cx=\"167.85\" cy=\"-105\" rx=\"34.39\" ry=\"18\"/>\n<text text-anchor=\"middle\" x=\"167.85\" y=\"-101.3\" font-family=\"Times,serif\" font-size=\"14.00\">Yes(2)</text>\n</g>\n<!-- outlook&#45;&gt;Yes(2) -->\n<g id=\"edge4\" class=\"edge\">\n<title>outlook&#45;&gt;Yes(2)</title>\n<path fill=\"none\" stroke=\"black\" d=\"M167.85,-173.8C167.85,-162.16 167.85,-146.55 167.85,-133.24\"/>\n<polygon fill=\"black\" stroke=\"black\" points=\"171.35,-133.18 167.85,-123.18 164.35,-133.18 171.35,-133.18\"/>\n<text text-anchor=\"middle\" x=\"192.35\" y=\"-144.8\" font-family=\"Times,serif\" font-size=\"14.00\">Overcast</text>\n</g>\n<!-- wind -->\n<g id=\"node6\" class=\"node\">\n<title>wind</title>\n<ellipse fill=\"none\" stroke=\"black\" cx=\"248.85\" cy=\"-105\" rx=\"28.7\" ry=\"18\"/>\n<text text-anchor=\"middle\" x=\"248.85\" y=\"-101.3\" font-family=\"Times,serif\" font-size=\"14.00\">wind</text>\n</g>\n<!-- outlook&#45;&gt;wind -->\n<g id=\"edge5\" class=\"edge\">\n<title>outlook&#45;&gt;wind</title>\n<path fill=\"none\" stroke=\"black\" d=\"M192.38,-178.18C202.04,-172.32 212.74,-164.72 220.85,-156 227.44,-148.9 233.07,-139.97 237.51,-131.63\"/>\n<polygon fill=\"black\" stroke=\"black\" points=\"240.69,-133.1 242.01,-122.59 234.42,-129.98 240.69,-133.1\"/>\n<text text-anchor=\"middle\" x=\"244.85\" y=\"-144.8\" font-family=\"Times,serif\" font-size=\"14.00\">Rain</text>\n</g>\n<!-- No(0) -->\n<g id=\"node3\" class=\"node\">\n<title>No(0)</title>\n<ellipse fill=\"none\" stroke=\"black\" cx=\"31.85\" cy=\"-18\" rx=\"31.7\" ry=\"18\"/>\n<text text-anchor=\"middle\" x=\"31.85\" y=\"-14.3\" font-family=\"Times,serif\" font-size=\"14.00\">No(0)</text>\n</g>\n<!-- humidity&#45;&gt;No(0) -->\n<g id=\"edge2\" class=\"edge\">\n<title>humidity&#45;&gt;No(0)</title>\n<path fill=\"none\" stroke=\"black\" d=\"M64.75,-87.21C58.87,-75.02 50.81,-58.32 44.14,-44.49\"/>\n<polygon fill=\"black\" stroke=\"black\" points=\"47.29,-42.96 39.79,-35.47 40.98,-46 47.29,-42.96\"/>\n<text text-anchor=\"middle\" x=\"68.85\" y=\"-57.8\" font-family=\"Times,serif\" font-size=\"14.00\">High</text>\n</g>\n<!-- Yes(1) -->\n<g id=\"node4\" class=\"node\">\n<title>Yes(1)</title>\n<ellipse fill=\"none\" stroke=\"black\" cx=\"115.85\" cy=\"-18\" rx=\"34.39\" ry=\"18\"/>\n<text text-anchor=\"middle\" x=\"115.85\" y=\"-14.3\" font-family=\"Times,serif\" font-size=\"14.00\">Yes(1)</text>\n</g>\n<!-- humidity&#45;&gt;Yes(1) -->\n<g id=\"edge3\" class=\"edge\">\n<title>humidity&#45;&gt;Yes(1)</title>\n<path fill=\"none\" stroke=\"black\" d=\"M81.34,-87.21C87.51,-75.02 95.96,-58.32 102.95,-44.49\"/>\n<polygon fill=\"black\" stroke=\"black\" points=\"106.12,-45.97 107.52,-35.47 99.88,-42.81 106.12,-45.97\"/>\n<text text-anchor=\"middle\" x=\"119.35\" y=\"-57.8\" font-family=\"Times,serif\" font-size=\"14.00\">Normal</text>\n</g>\n<!-- Yes(3) -->\n<g id=\"node7\" class=\"node\">\n<title>Yes(3)</title>\n<ellipse fill=\"none\" stroke=\"black\" cx=\"204.85\" cy=\"-18\" rx=\"34.39\" ry=\"18\"/>\n<text text-anchor=\"middle\" x=\"204.85\" y=\"-14.3\" font-family=\"Times,serif\" font-size=\"14.00\">Yes(3)</text>\n</g>\n<!-- wind&#45;&gt;Yes(3) -->\n<g id=\"edge6\" class=\"edge\">\n<title>wind&#45;&gt;Yes(3)</title>\n<path fill=\"none\" stroke=\"black\" d=\"M240.36,-87.61C234.07,-75.46 225.38,-58.66 218.16,-44.73\"/>\n<polygon fill=\"black\" stroke=\"black\" points=\"221.16,-42.9 213.45,-35.63 214.94,-46.12 221.16,-42.9\"/>\n<text text-anchor=\"middle\" x=\"245.35\" y=\"-57.8\" font-family=\"Times,serif\" font-size=\"14.00\">Weak</text>\n</g>\n<!-- No(4) -->\n<g id=\"node8\" class=\"node\">\n<title>No(4)</title>\n<ellipse fill=\"none\" stroke=\"black\" cx=\"288.85\" cy=\"-18\" rx=\"31.7\" ry=\"18\"/>\n<text text-anchor=\"middle\" x=\"288.85\" y=\"-14.3\" font-family=\"Times,serif\" font-size=\"14.00\">No(4)</text>\n</g>\n<!-- wind&#45;&gt;No(4) -->\n<g id=\"edge7\" class=\"edge\">\n<title>wind&#45;&gt;No(4)</title>\n<path fill=\"none\" stroke=\"black\" d=\"M256.56,-87.61C262.28,-75.46 270.18,-58.66 276.74,-44.73\"/>\n<polygon fill=\"black\" stroke=\"black\" points=\"279.93,-46.17 281.02,-35.63 273.6,-43.19 279.93,-46.17\"/>\n<text text-anchor=\"middle\" x=\"289.35\" y=\"-57.8\" font-family=\"Times,serif\" font-size=\"14.00\">Strong</text>\n</g>\n</g>\n</svg>\n"
          },
          "metadata": {},
          "execution_count": 18
        }
      ]
    },
    {
      "cell_type": "markdown",
      "source": [
        "Predict Function is to predict the Class Variables of the Testing Data.The desicion is made by traversing the tree according to the input"
      ],
      "metadata": {
        "id": "UXVRI5Nw0XJy"
      }
    },
    {
      "cell_type": "code",
      "source": [
        "def Predict(data,n):\n",
        "  x=data[n.name]\n",
        "  for j in range(len(n.labels)):\n",
        "      if(n.labels[j]==x):\n",
        "        if(len(n.childrens[j].labels)==0):\n",
        "          print(n.childrens[j].name)\n",
        "          return\n",
        "        Predict(data,n.childrens[j])\n",
        "        return\n",
        "\n"
      ],
      "metadata": {
        "id": "q9dUVMpdySKZ"
      },
      "execution_count": 106,
      "outputs": []
    },
    {
      "cell_type": "code",
      "source": [
        "data=dataset.to_dict(orient='records')"
      ],
      "metadata": {
        "id": "MPEaMELh4Kib"
      },
      "execution_count": 104,
      "outputs": []
    },
    {
      "cell_type": "code",
      "source": [
        "for i in data:\n",
        "  Predict(i,n)"
      ],
      "metadata": {
        "id": "SGrBynmiyikZ",
        "colab": {
          "base_uri": "https://localhost:8080/"
        },
        "outputId": "2626d20f-08c0-4ea8-e231-d2f455dd01db"
      },
      "execution_count": 107,
      "outputs": [
        {
          "output_type": "stream",
          "name": "stdout",
          "text": [
            "No(0)\n",
            "No(0)\n",
            "Yes(2)\n",
            "Yes(3)\n",
            "Yes(3)\n",
            "No(4)\n",
            "Yes(2)\n",
            "No(0)\n",
            "Yes(1)\n",
            "Yes(3)\n",
            "Yes(1)\n",
            "Yes(2)\n",
            "Yes(2)\n",
            "No(4)\n"
          ]
        }
      ]
    }
  ]
}